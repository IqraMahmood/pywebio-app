{
 "cells": [
  {
   "cell_type": "code",
   "execution_count": null,
   "id": "949a7d47",
   "metadata": {},
   "outputs": [],
   "source": [
    "web: python app.py --port=$PORT"
   ]
  },
  {
   "cell_type": "code",
   "execution_count": null,
   "id": "570c0d8f",
   "metadata": {},
   "outputs": [],
   "source": []
  }
 ],
 "metadata": {
  "kernelspec": {
   "display_name": "Python 3",
   "language": "python",
   "name": "python3"
  },
  "language_info": {
   "codemirror_mode": {
    "name": "ipython",
    "version": 3
   },
   "file_extension": ".py",
   "mimetype": "text/x-python",
   "name": "python",
   "nbconvert_exporter": "python",
   "pygments_lexer": "ipython3",
   "version": "3.8.8"
  }
 },
 "nbformat": 4,
 "nbformat_minor": 5
}
